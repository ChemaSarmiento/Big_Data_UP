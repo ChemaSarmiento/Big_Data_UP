{
  "nbformat": 4,
  "nbformat_minor": 0,
  "metadata": {
    "colab": {
      "name": "moveDrive.ipynb",
      "provenance": []
    },
    "kernelspec": {
      "name": "python3",
      "display_name": "Python 3"
    },
    "language_info": {
      "name": "python"
    }
  },
  "cells": [
    {
      "cell_type": "code",
      "execution_count": null,
      "metadata": {
        "id": "6dTI3vw_fCZ-"
      },
      "outputs": [],
      "source": [
        "!wget https://storage.googleapis.com/public-bucket-up-2022/carpetas_investigacion.csv"
      ]
    },
    {
      "cell_type": "code",
      "source": [
        "from google.colab import drive\n",
        "drive.mount('/content/drive')"
      ],
      "metadata": {
        "id": "u9fzyQvXfDo6",
        "outputId": "574db01c-7e0a-470a-c511-12013518a846",
        "colab": {
          "base_uri": "https://localhost:8080/"
        }
      },
      "execution_count": 3,
      "outputs": [
        {
          "output_type": "stream",
          "name": "stdout",
          "text": [
            "Drive already mounted at /content/drive; to attempt to forcibly remount, call drive.mount(\"/content/drive\", force_remount=True).\n"
          ]
        }
      ]
    },
    {
      "cell_type": "code",
      "source": [
        "from google.colab import auth\n",
        "auth.authenticate_user()\n",
        "project_id = 'warm-braid-347701'\n",
        "!gcloud config set project {project_id}\n",
        "!gsutil ls"
      ],
      "metadata": {
        "colab": {
          "base_uri": "https://localhost:8080/"
        },
        "id": "GMn5RsqthMwK",
        "outputId": "ec90dc85-0233-4831-f6e4-a0457b5e1558"
      },
      "execution_count": 4,
      "outputs": [
        {
          "output_type": "stream",
          "name": "stdout",
          "text": [
            "Updated property [core/project].\n",
            "gs://dataproc-staging-us-central1-972648669551-27zoxpk5/\n",
            "gs://dataproc-temp-us-central1-972648669551-xoozzlpj/\n"
          ]
        }
      ]
    },
    {
      "cell_type": "code",
      "source": [
        "bucket_name = 'my-bucket-ulises-up2'\n",
        "!gsutil -m cp -r /content/drive/MyDrive/DatosCompartidos/carpetas_investigacion.csv gs://{bucket_name}/"
      ],
      "metadata": {
        "colab": {
          "base_uri": "https://localhost:8080/"
        },
        "id": "5Ub3VgN1hU1y",
        "outputId": "3e2ffe5b-5610-4423-cdbd-7986e84bc3f8"
      },
      "execution_count": 8,
      "outputs": [
        {
          "output_type": "stream",
          "name": "stdout",
          "text": [
            "Copying file:///content/drive/MyDrive/DatosCompartidos/carpetas_investigacion.csv [Content-Type=text/csv]...\n",
            "/ [0/1 files][    0.0 B/227.0 MiB]   0% Done                                    \r==> NOTE: You are uploading one or more large file(s), which would run\n",
            "significantly faster if you enable parallel composite uploads. This\n",
            "feature can be enabled by editing the\n",
            "\"parallel_composite_upload_threshold\" value in your .boto\n",
            "configuration file. However, note that if you do this large files will\n",
            "be uploaded as `composite objects\n",
            "<https://cloud.google.com/storage/docs/composite-objects>`_,which\n",
            "means that any user who downloads such objects will need to have a\n",
            "compiled crcmod installed (see \"gsutil help crcmod\"). This is because\n",
            "without a compiled crcmod, computing checksums on composite objects is\n",
            "so slow that gsutil disables downloads of composite objects.\n",
            "\n",
            "| [1/1 files][227.0 MiB/227.0 MiB] 100% Done                                    \n",
            "Operation completed over 1 objects/227.0 MiB.                                    \n"
          ]
        }
      ]
    }
  ]
}